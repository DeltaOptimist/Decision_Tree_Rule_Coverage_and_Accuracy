{
  "nbformat": 4,
  "nbformat_minor": 0,
  "metadata": {
    "colab": {
      "provenance": []
    },
    "kernelspec": {
      "name": "python3",
      "display_name": "Python 3"
    },
    "language_info": {
      "name": "python"
    }
  },
  "cells": [
    {
      "cell_type": "code",
      "execution_count": 2,
      "metadata": {
        "id": "o52pjaXJ_qMC"
      },
      "outputs": [],
      "source": [
        "from sklearn.datasets import load_iris\n",
        "from sklearn.tree import DecisionTreeClassifier\n",
        "from sklearn.model_selection import train_test_split\n",
        "from sklearn.metrics import accuracy_score\n",
        "\n",
        "# Load the Iris dataset (you can replace this with your own dataset)\n",
        "data = load_iris()\n",
        "X, y = data.data, data.target\n",
        "\n",
        "# Split the dataset into training and testing sets\n",
        "X_train, X_test, y_train, y_test = train_test_split(X, y, test_size=0.2, random_state=42)\n",
        "\n",
        "# Train a decision tree classifier with a maximum depth of 3\n",
        "clf = DecisionTreeClassifier(max_depth=3, random_state=42)\n",
        "clf.fit(X_train, y_train)\n",
        "\n",
        "# Function to calculate rule coverage and accuracy for leaf nodes\n",
        "def calculate_rule_metrics(clf, X, y_true):\n",
        "    leaf_node_samples = clf.apply(X)  # Get the leaf node indices for each data point\n",
        "    unique_leaf_nodes = set(leaf_node_samples)\n",
        "    rule_list = []\n",
        "\n",
        "    for node in unique_leaf_nodes:\n",
        "        condition = leaf_node_samples == node  # Boolean array indicating instances in the leaf node\n",
        "        rule_coverage = condition.sum()\n",
        "        y_pred = clf.predict(X[condition])\n",
        "        accuracy = accuracy_score(y_true[condition], y_pred)\n",
        "        rule_list.append((node, rule_coverage, accuracy))\n",
        "\n",
        "    return rule_list\n",
        "\n"
      ]
    },
    {
      "cell_type": "code",
      "source": [
        "# Calculate rule coverage and accuracy for decision tree with depth 3\n",
        "rule_list_depth3 = calculate_rule_metrics(clf, X_test, y_test)\n",
        "\n",
        "# Print the rule, coverage, and accuracy for each leaf node\n",
        "print(\"Decision Tree with Depth 3:\")\n",
        "for node, rule_coverage, rule_accuracy in rule_list_depth3:\n",
        "    print(f\"Leaf Node: {node}\\nCoverage: {rule_coverage}\\nAccuracy: {rule_accuracy}\\n\")\n"
      ],
      "metadata": {
        "colab": {
          "base_uri": "https://localhost:8080/"
        },
        "id": "2li_8kR-_s2H",
        "outputId": "f2cd5e36-0da2-4c22-b99e-6f8f77ee6a57"
      },
      "execution_count": 3,
      "outputs": [
        {
          "output_type": "stream",
          "name": "stdout",
          "text": [
            "Decision Tree with Depth 3:\n",
            "Leaf Node: 8\n",
            "Coverage: 11\n",
            "Accuracy: 1.0\n",
            "\n",
            "Leaf Node: 1\n",
            "Coverage: 10\n",
            "Accuracy: 1.0\n",
            "\n",
            "Leaf Node: 4\n",
            "Coverage: 8\n",
            "Accuracy: 1.0\n",
            "\n",
            "Leaf Node: 7\n",
            "Coverage: 1\n",
            "Accuracy: 1.0\n",
            "\n"
          ]
        }
      ]
    },
    {
      "cell_type": "code",
      "source": [
        "from sklearn.datasets import load_iris\n",
        "from sklearn.tree import DecisionTreeClassifier\n",
        "from sklearn.model_selection import train_test_split\n",
        "from sklearn.metrics import accuracy_score\n",
        "\n",
        "# Load the Iris dataset (you can replace this with your own dataset)\n",
        "data = load_iris()\n",
        "X, y = data.data, data.target\n",
        "\n",
        "# Split the dataset into training and testing sets\n",
        "X_train, X_test, y_train, y_test = train_test_split(X, y, test_size=0.2, random_state=42)\n",
        "\n",
        "# Train a decision tree classifier with a maximum depth of 3\n",
        "clf = DecisionTreeClassifier(max_depth=5, random_state=42)\n",
        "clf.fit(X_train, y_train)\n",
        "\n",
        "# Function to calculate rule coverage and accuracy for leaf nodes\n",
        "def calculate_rule_metrics(clf, X, y_true):\n",
        "    leaf_node_samples = clf.apply(X)  # Get the leaf node indices for each data point\n",
        "    unique_leaf_nodes = set(leaf_node_samples)\n",
        "    rule_list = []\n",
        "\n",
        "    for node in unique_leaf_nodes:\n",
        "        condition = leaf_node_samples == node  # Boolean array indicating instances in the leaf node\n",
        "        rule_coverage = condition.sum()\n",
        "        y_pred = clf.predict(X[condition])\n",
        "        accuracy = accuracy_score(y_true[condition], y_pred)\n",
        "        rule_list.append((node, rule_coverage, accuracy))\n",
        "\n",
        "    return rule_list\n",
        "\n"
      ],
      "metadata": {
        "id": "TBF8se_7_9vd"
      },
      "execution_count": 4,
      "outputs": []
    },
    {
      "cell_type": "code",
      "source": [
        "# Calculate rule coverage and accuracy for decision tree with depth 3\n",
        "rule_list_depth3 = calculate_rule_metrics(clf, X_test, y_test)\n",
        "\n",
        "# Print the rule, coverage, and accuracy for each leaf node\n",
        "print(\"Decision Tree with Depth 5:\")\n",
        "for node, rule_coverage, rule_accuracy in rule_list_depth3:\n",
        "    print(f\"Leaf Node: {node}\\nCoverage: {rule_coverage}\\nAccuracy: {rule_accuracy}\\n\")"
      ],
      "metadata": {
        "colab": {
          "base_uri": "https://localhost:8080/"
        },
        "id": "Jt4fhZ9g__jH",
        "outputId": "f3fd71d0-e85f-4208-ae07-5faa076a8c21"
      },
      "execution_count": 6,
      "outputs": [
        {
          "output_type": "stream",
          "name": "stdout",
          "text": [
            "Decision Tree with Depth 5:\n",
            "Leaf Node: 16\n",
            "Coverage: 11\n",
            "Accuracy: 1.0\n",
            "\n",
            "Leaf Node: 1\n",
            "Coverage: 10\n",
            "Accuracy: 1.0\n",
            "\n",
            "Leaf Node: 4\n",
            "Coverage: 8\n",
            "Accuracy: 1.0\n",
            "\n",
            "Leaf Node: 8\n",
            "Coverage: 1\n",
            "Accuracy: 1.0\n",
            "\n"
          ]
        }
      ]
    },
    {
      "cell_type": "code",
      "source": [],
      "metadata": {
        "id": "f8G8t0faACA_"
      },
      "execution_count": null,
      "outputs": []
    }
  ]
}